{
 "cells": [
  {
   "metadata": {},
   "cell_type": "markdown",
   "source": [
    "# This is a sample Jupyter Notebook\n",
    "\n",
    "Below is an example of a code cell. \n",
    "Put your cursor into the cell and press Shift+Enter to execute it and select the next one, or click 'Run Cell' button.\n",
    "\n",
    "Press Double Shift to search everywhere for classes, files, tool windows, actions, and settings.\n",
    "\n",
    "To learn more about Jupyter Notebooks in PyCharm, see [help](https://www.jetbrains.com/help/pycharm/ipython-notebook-support.html).\n",
    "For an overview of PyCharm, go to Help -> Learn IDE features or refer to [our documentation](https://www.jetbrains.com/help/pycharm/getting-started.html)."
   ],
   "id": "8a77807f92f26ee"
  },
  {
   "metadata": {},
   "cell_type": "markdown",
   "source": [
    "## HW 1. numpy\n",
    "\n"
   ],
   "id": "c81812a993f5c6e4"
  },
  {
   "metadata": {
    "ExecuteTime": {
     "end_time": "2025-01-14T09:50:57.802937Z",
     "start_time": "2025-01-14T09:50:57.794995Z"
    }
   },
   "cell_type": "code",
   "source": [
    "import numpy as np\n",
    "\n",
    "# Task 1\n",
    "\n",
    "np.random.seed(10)\n",
    "\n",
    "nums_array = np.random.randint(0, 100, 10)\n",
    "print(f\"Array: {nums_array}\")\n",
    "\n",
    "average = np.mean(nums_array)\n",
    "median = np.median(nums_array)\n",
    "std_dev = np.std(nums_array)\n",
    "print(f\"Average: {average}, Median: {median}, Standard deviation: {std_dev}\")\n",
    "\n",
    "\n",
    "nums_array[nums_array % 2 == 0] = 0\n",
    "print(f\"New array: {nums_array}\")\n"
   ],
   "id": "696e7b454fbe7938",
   "outputs": [
    {
     "name": "stdout",
     "output_type": "stream",
     "text": [
      "Array: [ 9 15 64 28 89 93 29  8 73  0]\n",
      "Average: 40.8, Median: 28.5, Standard deviation: 33.68026128164685\n",
      "New array: [ 9 15  0  0 89 93 29  0 73  0]\n"
     ]
    }
   ],
   "execution_count": 11
  },
  {
   "metadata": {
    "ExecuteTime": {
     "end_time": "2025-01-14T11:16:29.652191Z",
     "start_time": "2025-01-14T11:16:29.645172Z"
    }
   },
   "cell_type": "code",
   "source": [
    "# Task 2\n",
    "\n",
    "np.random.seed(10)\n",
    "nums_array2 = np.random.randint(0, 100, (3, 3))\n",
    "print(\"Array:\")\n",
    "print(nums_array2)\n",
    "\n",
    "print(f\"First row: {nums_array2[0]}\")\n",
    "\n",
    "print(f\"Last column: {nums_array2[:, -1]}\")\n",
    "\n",
    "print(f\"Diagonal: {np.diag(nums_array2)}\")"
   ],
   "id": "61909440d51bbca3",
   "outputs": [
    {
     "name": "stdout",
     "output_type": "stream",
     "text": [
      "Array:\n",
      "[[37  0 18]\n",
      " [23  3 29]\n",
      " [16 84 82]]\n",
      "First row: [37  0 18]\n",
      "Last column: [18 29 82]\n",
      "Diagonal: [37  3 82]\n"
     ]
    }
   ],
   "execution_count": 29
  },
  {
   "metadata": {},
   "cell_type": "markdown",
   "source": "",
   "id": "15b027b7cc42a179"
  },
  {
   "metadata": {
    "ExecuteTime": {
     "end_time": "2025-01-14T13:19:25.118008Z",
     "start_time": "2025-01-14T13:19:25.110052Z"
    }
   },
   "cell_type": "code",
   "source": [
    "# Task 3\n",
    "np.random.seed(10)\n",
    "nums_array3 = np.random.randint(0, 100, (3, 3))\n",
    "print(\"Array 2d:\")\n",
    "print(nums_array3)\n",
    "nums_array4 = np.random.randint(0, 100, 3)\n",
    "print(\"Array 1d:\")\n",
    "print(nums_array4)\n",
    "\n",
    "nums_array3 += nums_array4\n",
    "print(\"Array after adding:\")\n",
    "print(nums_array3)"
   ],
   "id": "5b8ece8ef6c35142",
   "outputs": [
    {
     "name": "stdout",
     "output_type": "stream",
     "text": [
      "Array 2d:\n",
      "[[ 9 15 64]\n",
      " [28 89 93]\n",
      " [29  8 73]]\n",
      "Array 1d:\n",
      "[ 0 40 36]\n",
      "Array after adding:\n",
      "[[  9  55 100]\n",
      " [ 28 129 129]\n",
      " [ 29  48 109]]\n"
     ]
    }
   ],
   "execution_count": 45
  },
  {
   "metadata": {
    "ExecuteTime": {
     "end_time": "2025-01-14T11:21:28.425749Z",
     "start_time": "2025-01-14T11:21:28.416622Z"
    }
   },
   "cell_type": "code",
   "source": [
    "# Task 4\n",
    "np.random.seed(10)\n",
    "nums_array5 = np.random.randint(0, 100, (5,5))\n",
    "print(\"Array:\")\n",
    "print(nums_array5)\n",
    "\n",
    "unique_values = np.unique(nums_array5)\n",
    "print(f\"Unique values: {unique_values}\")\n",
    "\n",
    "test_number = 250\n",
    "\n",
    "print(f\"Rows where sum > {test_number}:\")\n",
    "print(nums_array5[nums_array5.sum(axis=1) > test_number])\n"
   ],
   "id": "e9624267a31c2090",
   "outputs": [
    {
     "name": "stdout",
     "output_type": "stream",
     "text": [
      "Array:\n",
      "[[ 9 15 64 28 89]\n",
      " [93 29  8 73  0]\n",
      " [40 36 16 11 54]\n",
      " [88 62 33 72 78]\n",
      " [49 51 54 77 69]]\n",
      "Unique values: [ 0  8  9 11 15 16 28 29 33 36 40 49 51 54 62 64 69 72 73 77 78 88 89 93]\n",
      "Rows where sum > 250:\n",
      "[[88 62 33 72 78]\n",
      " [49 51 54 77 69]]\n"
     ]
    }
   ],
   "execution_count": 32
  },
  {
   "metadata": {
    "ExecuteTime": {
     "end_time": "2025-01-14T11:34:25.243643Z",
     "start_time": "2025-01-14T11:34:25.235375Z"
    }
   },
   "cell_type": "code",
   "source": [
    "# Task 5\n",
    "\n",
    "nums_array6 = np.arange(1, 21)\n",
    "print(f\"Array: {nums_array6}\")\n",
    "\n",
    "nums_array6 = nums_array6.reshape(4, 5)\n",
    "print(\"2D array:\")\n",
    "print(nums_array6)\n",
    "\n",
    "print(f\"Shape: {nums_array6.shape}\")"
   ],
   "id": "ee63d6ac76caef3c",
   "outputs": [
    {
     "name": "stdout",
     "output_type": "stream",
     "text": [
      "Array: [ 1  2  3  4  5  6  7  8  9 10 11 12 13 14 15 16 17 18 19 20]\n",
      "2D array:\n",
      "[[ 1  2  3  4  5]\n",
      " [ 6  7  8  9 10]\n",
      " [11 12 13 14 15]\n",
      " [16 17 18 19 20]]\n",
      "Shape: (4, 5)\n"
     ]
    }
   ],
   "execution_count": 42
  },
  {
   "metadata": {},
   "cell_type": "code",
   "outputs": [],
   "execution_count": null,
   "source": "",
   "id": "7d8ec45d4dc58fd8"
  }
 ],
 "metadata": {
  "kernelspec": {
   "display_name": "Python 3",
   "language": "python",
   "name": "python3"
  },
  "language_info": {
   "codemirror_mode": {
    "name": "ipython",
    "version": 2
   },
   "file_extension": ".py",
   "mimetype": "text/x-python",
   "name": "python",
   "nbconvert_exporter": "python",
   "pygments_lexer": "ipython2",
   "version": "2.7.6"
  }
 },
 "nbformat": 4,
 "nbformat_minor": 5
}
