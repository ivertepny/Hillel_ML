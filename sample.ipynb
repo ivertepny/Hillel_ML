{
 "cells": [
  {
   "metadata": {},
   "cell_type": "markdown",
   "source": [
    "# This is a sample Jupyter Notebook\n",
    "\n",
    "Below is an example of a code cell. \n",
    "Put your cursor into the cell and press Shift+Enter to execute it and select the next one, or click 'Run Cell' button.\n",
    "\n",
    "Press Double Shift to search everywhere for classes, files, tool windows, actions, and settings.\n",
    "\n",
    "To learn more about Jupyter Notebooks in PyCharm, see [help](https://www.jetbrains.com/help/pycharm/ipython-notebook-support.html).\n",
    "For an overview of PyCharm, go to Help -> Learn IDE features or refer to [our documentation](https://www.jetbrains.com/help/pycharm/getting-started.html)."
   ],
   "id": "8a77807f92f26ee"
  },
  {
   "metadata": {},
   "cell_type": "markdown",
   "source": [
    "## HW 1. numpy\n",
    "\n"
   ],
   "id": "c81812a993f5c6e4"
  },
  {
   "metadata": {
    "ExecuteTime": {
     "end_time": "2025-01-14T09:50:57.802937Z",
     "start_time": "2025-01-14T09:50:57.794995Z"
    }
   },
   "cell_type": "code",
   "source": [
    "import numpy as np\n",
    "\n",
    "# Task 1\n",
    "\n",
    "np.random.seed(10)\n",
    "\n",
    "nums_array = np.random.randint(0, 100, 10)\n",
    "print(f\"Array: {nums_array}\")\n",
    "\n",
    "average = np.mean(nums_array)\n",
    "median = np.median(nums_array)\n",
    "std_dev = np.std(nums_array)\n",
    "print(f\"Average: {average}, Median: {median}, Standard deviation: {std_dev}\")\n",
    "\n",
    "\n",
    "nums_array[nums_array % 2 == 0] = 0\n",
    "print(f\"New array: {nums_array}\")\n"
   ],
   "id": "696e7b454fbe7938",
   "outputs": [
    {
     "name": "stdout",
     "output_type": "stream",
     "text": [
      "Array: [ 9 15 64 28 89 93 29  8 73  0]\n",
      "Average: 40.8, Median: 28.5, Standard deviation: 33.68026128164685\n",
      "New array: [ 9 15  0  0 89 93 29  0 73  0]\n"
     ]
    }
   ],
   "execution_count": 11
  },
  {
   "metadata": {
    "ExecuteTime": {
     "end_time": "2025-01-14T11:16:29.652191Z",
     "start_time": "2025-01-14T11:16:29.645172Z"
    }
   },
   "cell_type": "code",
   "source": [
    "# Task 2\n",
    "\n",
    "np.random.seed(10)\n",
    "nums_array2 = np.random.randint(0, 100, (3, 3))\n",
    "print(\"Array:\")\n",
    "print(nums_array2)\n",
    "\n",
    "print(f\"First row: {nums_array2[0]}\")\n",
    "\n",
    "print(f\"Last column: {nums_array2[:, -1]}\")\n",
    "\n",
    "print(f\"Diagonal: {np.diag(nums_array2)}\")"
   ],
   "id": "61909440d51bbca3",
   "outputs": [
    {
     "name": "stdout",
     "output_type": "stream",
     "text": [
      "Array:\n",
      "[[37  0 18]\n",
      " [23  3 29]\n",
      " [16 84 82]]\n",
      "First row: [37  0 18]\n",
      "Last column: [18 29 82]\n",
      "Diagonal: [37  3 82]\n"
     ]
    }
   ],
   "execution_count": 29
  },
  {
   "metadata": {},
   "cell_type": "markdown",
   "source": "",
   "id": "15b027b7cc42a179"
  },
  {
   "metadata": {
    "ExecuteTime": {
     "end_time": "2025-01-14T13:19:25.118008Z",
     "start_time": "2025-01-14T13:19:25.110052Z"
    }
   },
   "cell_type": "code",
   "source": [
    "# Task 3\n",
    "np.random.seed(10)\n",
    "nums_array3 = np.random.randint(0, 100, (3, 3))\n",
    "print(\"Array 2d:\")\n",
    "print(nums_array3)\n",
    "nums_array4 = np.random.randint(0, 100, 3)\n",
    "print(\"Array 1d:\")\n",
    "print(nums_array4)\n",
    "\n",
    "nums_array3 += nums_array4\n",
    "print(\"Array after adding:\")\n",
    "print(nums_array3)"
   ],
   "id": "5b8ece8ef6c35142",
   "outputs": [
    {
     "name": "stdout",
     "output_type": "stream",
     "text": [
      "Array 2d:\n",
      "[[ 9 15 64]\n",
      " [28 89 93]\n",
      " [29  8 73]]\n",
      "Array 1d:\n",
      "[ 0 40 36]\n",
      "Array after adding:\n",
      "[[  9  55 100]\n",
      " [ 28 129 129]\n",
      " [ 29  48 109]]\n"
     ]
    }
   ],
   "execution_count": 45
  },
  {
   "metadata": {
    "ExecuteTime": {
     "end_time": "2025-01-14T11:21:28.425749Z",
     "start_time": "2025-01-14T11:21:28.416622Z"
    }
   },
   "cell_type": "code",
   "source": [
    "# Task 4\n",
    "np.random.seed(10)\n",
    "nums_array5 = np.random.randint(0, 100, (5,5))\n",
    "print(\"Array:\")\n",
    "print(nums_array5)\n",
    "\n",
    "unique_values = np.unique(nums_array5)\n",
    "print(f\"Unique values: {unique_values}\")\n",
    "\n",
    "test_number = 250\n",
    "\n",
    "print(f\"Rows where sum > {test_number}:\")\n",
    "print(nums_array5[nums_array5.sum(axis=1) > test_number])\n"
   ],
   "id": "e9624267a31c2090",
   "outputs": [
    {
     "name": "stdout",
     "output_type": "stream",
     "text": [
      "Array:\n",
      "[[ 9 15 64 28 89]\n",
      " [93 29  8 73  0]\n",
      " [40 36 16 11 54]\n",
      " [88 62 33 72 78]\n",
      " [49 51 54 77 69]]\n",
      "Unique values: [ 0  8  9 11 15 16 28 29 33 36 40 49 51 54 62 64 69 72 73 77 78 88 89 93]\n",
      "Rows where sum > 250:\n",
      "[[88 62 33 72 78]\n",
      " [49 51 54 77 69]]\n"
     ]
    }
   ],
   "execution_count": 32
  },
  {
   "metadata": {
    "ExecuteTime": {
     "end_time": "2025-01-14T11:34:25.243643Z",
     "start_time": "2025-01-14T11:34:25.235375Z"
    }
   },
   "cell_type": "code",
   "source": [
    "# Task 5\n",
    "\n",
    "nums_array6 = np.arange(1, 21)\n",
    "print(f\"Array: {nums_array6}\")\n",
    "\n",
    "nums_array6 = nums_array6.reshape(4, 5)\n",
    "print(\"2D array:\")\n",
    "print(nums_array6)\n",
    "\n",
    "print(f\"Shape: {nums_array6.shape}\")"
   ],
   "id": "ee63d6ac76caef3c",
   "outputs": [
    {
     "name": "stdout",
     "output_type": "stream",
     "text": [
      "Array: [ 1  2  3  4  5  6  7  8  9 10 11 12 13 14 15 16 17 18 19 20]\n",
      "2D array:\n",
      "[[ 1  2  3  4  5]\n",
      " [ 6  7  8  9 10]\n",
      " [11 12 13 14 15]\n",
      " [16 17 18 19 20]]\n",
      "Shape: (4, 5)\n"
     ]
    }
   ],
   "execution_count": 42
  },
  {
   "metadata": {},
   "cell_type": "code",
   "outputs": [],
   "execution_count": null,
   "source": "",
   "id": "7d8ec45d4dc58fd8"
  },
  {
   "metadata": {},
   "cell_type": "markdown",
   "source": "## HW1. pandas",
   "id": "edf31d34c0e5b055"
  },
  {
   "metadata": {
    "ExecuteTime": {
     "end_time": "2025-01-16T14:34:49.700206Z",
     "start_time": "2025-01-16T14:34:49.639168Z"
    }
   },
   "cell_type": "code",
   "source": [
    "import pandas as pd\n",
    "import numpy as np\n",
    "\n",
    "# Task 1\n",
    "\n",
    "data = {\n",
    "    'Name': ['John', 'Anna', 'Peter', 'Linda', 'Sandra'],\n",
    "    'Age': [25, 36, 42, 18, 36],\n",
    "    'Сity': ['New York', 'Paris', 'London', 'Berlin', 'Rome']\n",
    "}\n",
    "\n",
    "df = pd.DataFrame(data)\n",
    "print(f\"{df}\\n\")\n",
    "# Task 2\n",
    "\n",
    "np.seed = 10\n",
    "df['Salary'] = np.random.randint(1000, 5000, len(df))\n",
    "print(f\"{df}\\n\")\n",
    "\n",
    "# Task 3\n",
    "age = 30\n",
    "df1 = df[df['Age'] > age]\n",
    "print(f\"{df1}\\n\")"
   ],
   "id": "c8efd2c80eb98ded",
   "outputs": [
    {
     "name": "stdout",
     "output_type": "stream",
     "text": [
      "     Name  Age      Сity\n",
      "0    John   25  New York\n",
      "1    Anna   36     Paris\n",
      "2   Peter   42    London\n",
      "3   Linda   18    Berlin\n",
      "4  Sandra   36      Rome\n",
      "\n",
      "     Name  Age      Сity  Salary\n",
      "0    John   25  New York    3191\n",
      "1    Anna   36     Paris    1362\n",
      "2   Peter   42    London    3637\n",
      "3   Linda   18    Berlin    3616\n",
      "4  Sandra   36      Rome    4826\n",
      "\n",
      "     Name  Age    Сity  Salary\n",
      "1    Anna   36   Paris    1362\n",
      "2   Peter   42  London    3637\n",
      "4  Sandra   36    Rome    4826\n",
      "\n"
     ]
    }
   ],
   "execution_count": 48
  },
  {
   "metadata": {
    "ExecuteTime": {
     "end_time": "2025-01-16T10:26:23.765547Z",
     "start_time": "2025-01-16T10:26:23.734553Z"
    }
   },
   "cell_type": "code",
   "source": [
    "# Task 4\n",
    "import pandas as pd\n",
    "import numpy as np\n",
    "\n",
    "df2 = pd.read_csv('wine.csv')\n",
    "print(f\"{df2}\\n\")"
   ],
   "id": "97a2b4391839a83f",
   "outputs": [
    {
     "name": "stdout",
     "output_type": "stream",
     "text": [
      "     1  14.23  1.71  2.43  15.6  127   2.8  3.06   .28  2.29   5.64  1.04  \\\n",
      "0    1  13.20  1.78  2.14  11.2  100  2.65  2.76  0.26  1.28   4.38  1.05   \n",
      "1    1  13.16  2.36  2.67  18.6  101  2.80  3.24  0.30  2.81   5.68  1.03   \n",
      "2    1  14.37  1.95  2.50  16.8  113  3.85  3.49  0.24  2.18   7.80  0.86   \n",
      "3    1  13.24  2.59  2.87  21.0  118  2.80  2.69  0.39  1.82   4.32  1.04   \n",
      "4    1  14.20  1.76  2.45  15.2  112  3.27  3.39  0.34  1.97   6.75  1.05   \n",
      "..  ..    ...   ...   ...   ...  ...   ...   ...   ...   ...    ...   ...   \n",
      "172  3  13.71  5.65  2.45  20.5   95  1.68  0.61  0.52  1.06   7.70  0.64   \n",
      "173  3  13.40  3.91  2.48  23.0  102  1.80  0.75  0.43  1.41   7.30  0.70   \n",
      "174  3  13.27  4.28  2.26  20.0  120  1.59  0.69  0.43  1.35  10.20  0.59   \n",
      "175  3  13.17  2.59  2.37  20.0  120  1.65  0.68  0.53  1.46   9.30  0.60   \n",
      "176  3  14.13  4.10  2.74  24.5   96  2.05  0.76  0.56  1.35   9.20  0.61   \n",
      "\n",
      "     3.92  1065  \n",
      "0    3.40  1050  \n",
      "1    3.17  1185  \n",
      "2    3.45  1480  \n",
      "3    2.93   735  \n",
      "4    2.85  1450  \n",
      "..    ...   ...  \n",
      "172  1.74   740  \n",
      "173  1.56   750  \n",
      "174  1.56   835  \n",
      "175  1.62   840  \n",
      "176  1.60   560  \n",
      "\n",
      "[177 rows x 14 columns]\n",
      "\n"
     ]
    }
   ],
   "execution_count": 43
  },
  {
   "metadata": {
    "ExecuteTime": {
     "end_time": "2025-01-16T10:01:27.924230Z",
     "start_time": "2025-01-16T10:01:27.910229Z"
    }
   },
   "cell_type": "code",
   "source": [
    "# Task 5\n",
    "\n",
    "print(f\"{df2.head()}\\n\")\n"
   ],
   "id": "3cd236d56f87c9f2",
   "outputs": [
    {
     "name": "stdout",
     "output_type": "stream",
     "text": [
      "   1  14.23  1.71  2.43  15.6  127   2.8  3.06   .28  2.29  5.64  1.04  3.92  \\\n",
      "0  1  13.20  1.78  2.14  11.2  100  2.65  2.76  0.26  1.28  4.38  1.05  3.40   \n",
      "1  1  13.16  2.36  2.67  18.6  101  2.80  3.24  0.30  2.81  5.68  1.03  3.17   \n",
      "2  1  14.37  1.95  2.50  16.8  113  3.85  3.49  0.24  2.18  7.80  0.86  3.45   \n",
      "3  1  13.24  2.59  2.87  21.0  118  2.80  2.69  0.39  1.82  4.32  1.04  2.93   \n",
      "4  1  14.20  1.76  2.45  15.2  112  3.27  3.39  0.34  1.97  6.75  1.05  2.85   \n",
      "\n",
      "   1065  \n",
      "0  1050  \n",
      "1  1185  \n",
      "2  1480  \n",
      "3   735  \n",
      "4  1450  \n",
      "\n"
     ]
    }
   ],
   "execution_count": 21
  },
  {
   "metadata": {
    "ExecuteTime": {
     "end_time": "2025-01-16T10:05:19.731041Z",
     "start_time": "2025-01-16T10:05:19.682134Z"
    }
   },
   "cell_type": "code",
   "source": [
    "# Task 6\n",
    "\n",
    "print(f\"{df2.describe()}\\n\")\n"
   ],
   "id": "c2f197bd9340fa31",
   "outputs": [
    {
     "name": "stdout",
     "output_type": "stream",
     "text": [
      "                1       14.23        1.71        2.43        15.6         127  \\\n",
      "count  177.000000  177.000000  177.000000  177.000000  177.000000  177.000000   \n",
      "mean     1.943503   12.993672    2.339887    2.366158   19.516949   99.587571   \n",
      "std      0.773991    0.808808    1.119314    0.275080    3.336071   14.174018   \n",
      "min      1.000000   11.030000    0.740000    1.360000   10.600000   70.000000   \n",
      "25%      1.000000   12.360000    1.600000    2.210000   17.200000   88.000000   \n",
      "50%      2.000000   13.050000    1.870000    2.360000   19.500000   98.000000   \n",
      "75%      3.000000   13.670000    3.100000    2.560000   21.500000  107.000000   \n",
      "max      3.000000   14.830000    5.800000    3.230000   30.000000  162.000000   \n",
      "\n",
      "              2.8        3.06         .28        2.29        5.64        1.04  \\\n",
      "count  177.000000  177.000000  177.000000  177.000000  177.000000  177.000000   \n",
      "mean     2.292260    2.023446    0.362316    1.586949    5.054802    0.956983   \n",
      "std      0.626465    0.998658    0.124653    0.571545    2.324446    0.229135   \n",
      "min      0.980000    0.340000    0.130000    0.410000    1.280000    0.480000   \n",
      "25%      1.740000    1.200000    0.270000    1.250000    3.210000    0.780000   \n",
      "50%      2.350000    2.130000    0.340000    1.550000    4.680000    0.960000   \n",
      "75%      2.800000    2.860000    0.440000    1.950000    6.200000    1.120000   \n",
      "max      3.880000    5.080000    0.660000    3.580000   13.000000    1.710000   \n",
      "\n",
      "             3.92         1065  \n",
      "count  177.000000   177.000000  \n",
      "mean     2.604294   745.096045  \n",
      "std      0.705103   314.884046  \n",
      "min      1.270000   278.000000  \n",
      "25%      1.930000   500.000000  \n",
      "50%      2.780000   672.000000  \n",
      "75%      3.170000   985.000000  \n",
      "max      4.000000  1680.000000  \n",
      "\n"
     ]
    }
   ],
   "execution_count": 22
  },
  {
   "metadata": {
    "ExecuteTime": {
     "end_time": "2025-01-16T10:29:39.692509Z",
     "start_time": "2025-01-16T10:29:39.667596Z"
    }
   },
   "cell_type": "code",
   "source": [
    "# Task 7\n",
    "category_column = 1\n",
    "unique_values = df2.iloc[:, category_column].unique()\n",
    "print(f\"{unique_values}\\n\")\n"
   ],
   "id": "b14c53b459e29702",
   "outputs": [
    {
     "name": "stdout",
     "output_type": "stream",
     "text": [
      "[13.2  13.16 14.37 13.24 14.2  14.39 14.06 14.83 13.86 14.1  14.12 13.75\n",
      " 14.75 14.38 13.63 14.3  13.83 14.19 13.64 12.93 13.71 12.85 13.5  13.05\n",
      " 13.39 13.3  13.87 14.02 13.73 13.58 13.68 13.76 13.51 13.48 13.28 13.07\n",
      " 14.22 13.56 13.41 13.88 14.21 13.9  13.94 13.82 13.77 13.74 13.29 13.72\n",
      " 12.37 12.33 12.64 13.67 12.17 13.11 13.34 12.21 12.29 13.49 12.99 11.96\n",
      " 11.66 13.03 11.84 12.7  12.   12.72 12.08 12.67 12.16 11.65 11.64 12.69\n",
      " 11.62 12.47 11.81 12.6  12.34 11.82 12.51 12.42 12.25 12.22 11.61 11.46\n",
      " 12.52 11.76 11.41 11.03 12.77 11.45 11.56 11.87 12.07 12.43 11.79 12.04\n",
      " 12.86 12.88 12.81 12.53 12.84 13.36 13.52 13.62 12.87 13.32 13.08 12.79\n",
      " 13.23 12.58 13.17 13.84 12.45 14.34 12.36 13.69 12.96 13.78 13.45 12.82\n",
      " 13.4  12.2  14.16 13.27 14.13]\n",
      "\n"
     ]
    }
   ],
   "execution_count": 47
  },
  {
   "metadata": {},
   "cell_type": "code",
   "outputs": [],
   "execution_count": null,
   "source": "",
   "id": "c6026ff4e79b8179"
  }
 ],
 "metadata": {
  "kernelspec": {
   "display_name": "Python 3",
   "language": "python",
   "name": "python3"
  },
  "language_info": {
   "codemirror_mode": {
    "name": "ipython",
    "version": 2
   },
   "file_extension": ".py",
   "mimetype": "text/x-python",
   "name": "python",
   "nbconvert_exporter": "python",
   "pygments_lexer": "ipython2",
   "version": "2.7.6"
  }
 },
 "nbformat": 4,
 "nbformat_minor": 5
}
