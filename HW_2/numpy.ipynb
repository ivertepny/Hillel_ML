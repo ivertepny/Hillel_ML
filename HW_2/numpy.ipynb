{
 "cells": [
  {
   "cell_type": "markdown",
   "id": "4994016c-d318-4577-b968-281d793fb989",
   "metadata": {},
   "source": [
    "Для успішного виконання домашки використовуйте документацію [NumPy](https://numpy.org/doc/stable/).\n",
    "\n",
    "Зверніть увагу на такі методи `numpy`:\n",
    "* *arange*\n",
    "* *zeros*\n",
    "* *ones*\n",
    "* *full*\n",
    "* *nonzero*\n",
    "* *eye*\n",
    "* *random*\n",
    "* *sort*\n",
    "* *sum*\n",
    "* *min*\n",
    "* *mean*"
   ]
  },
  {
   "cell_type": "code",
   "execution_count": null,
   "id": "46a34168-40d8-472c-af42-1c9e74f27782",
   "metadata": {},
   "outputs": [],
   "source": [
    "import numpy as np"
   ]
  },
  {
   "cell_type": "code",
   "id": "9eae0577-c5b9-4b45-a841-fb7e0cd46ae2",
   "metadata": {
    "ExecuteTime": {
     "end_time": "2025-01-17T09:43:49.339832Z",
     "start_time": "2025-01-17T09:43:49.329822Z"
    }
   },
   "source": [
    "# Завдання 1: Створити масив розміром 3x3 зі значеннями від 0 до 8\n",
    "# Hints: np.arange\n",
    "\n",
    "arr1 = np.arange(9).reshape(3, 3)\n",
    "print(arr1)\n"
   ],
   "outputs": [
    {
     "name": "stdout",
     "output_type": "stream",
     "text": [
      "[[0 1 2]\n",
      " [3 4 5]\n",
      " [6 7 8]]\n"
     ]
    }
   ],
   "execution_count": 4
  },
  {
   "cell_type": "code",
   "id": "c4442a60-f6f3-48e4-8a9e-0aa2a4c08acb",
   "metadata": {
    "ExecuteTime": {
     "end_time": "2025-01-17T10:31:35.091010Z",
     "start_time": "2025-01-17T10:31:35.085348Z"
    }
   },
   "source": [
    "# Завдання 2: Створити вектор розміром 10, заповнений нулями\n",
    "arr2 = np.zeros(10, dtype=int)  # int look better )))\n",
    "print(arr2)"
   ],
   "outputs": [
    {
     "name": "stdout",
     "output_type": "stream",
     "text": [
      "[0 0 0 0 0 0 0 0 0 0]\n"
     ]
    }
   ],
   "execution_count": 56
  },
  {
   "cell_type": "code",
   "id": "35b875ff-292f-4f80-ab04-9a2d8307d33a",
   "metadata": {
    "ExecuteTime": {
     "end_time": "2025-01-17T10:31:53.364209Z",
     "start_time": "2025-01-17T10:31:53.358849Z"
    }
   },
   "source": [
    "# Завдання 3: Створити вектор розміром 10, заповнений одиницями\n",
    "arr3 = np.ones(10, dtype=int) # int look better )))\n",
    "print(arr3)"
   ],
   "outputs": [
    {
     "name": "stdout",
     "output_type": "stream",
     "text": [
      "[1 1 1 1 1 1 1 1 1 1]\n"
     ]
    }
   ],
   "execution_count": 57
  },
  {
   "cell_type": "code",
   "id": "1b6bffbb-5dea-4885-8ceb-5164811db29c",
   "metadata": {
    "ExecuteTime": {
     "end_time": "2025-01-17T09:47:35.151813Z",
     "start_time": "2025-01-17T09:47:35.145119Z"
    }
   },
   "source": [
    "# Завдання 4: Створити вектор розміром 10, заповнений значеннями 5\n",
    "# Hints: np.full\n",
    "arr4 = np.full(10,5)\n",
    "print(arr4)"
   ],
   "outputs": [
    {
     "name": "stdout",
     "output_type": "stream",
     "text": [
      "[5 5 5 5 5 5 5 5 5 5]\n"
     ]
    }
   ],
   "execution_count": 12
  },
  {
   "cell_type": "code",
   "id": "1f62466c-2660-4f70-8399-27fab4d197b1",
   "metadata": {
    "ExecuteTime": {
     "end_time": "2025-01-17T09:49:25.536790Z",
     "start_time": "2025-01-17T09:49:25.531129Z"
    }
   },
   "source": [
    "# Завдання 5: Створити вектор з числами від 10 до 49\n",
    "\n",
    "arr5 = np.arange(10,50)\n",
    "print(arr5)"
   ],
   "outputs": [
    {
     "name": "stdout",
     "output_type": "stream",
     "text": [
      "[10 11 12 13 14 15 16 17 18 19 20 21 22 23 24 25 26 27 28 29 30 31 32 33\n",
      " 34 35 36 37 38 39 40 41 42 43 44 45 46 47 48 49]\n"
     ]
    }
   ],
   "execution_count": 14
  },
  {
   "cell_type": "code",
   "id": "e673b144-0eae-4e48-9e80-358da5b39783",
   "metadata": {
    "ExecuteTime": {
     "end_time": "2025-01-17T09:51:58.036432Z",
     "start_time": "2025-01-17T09:51:58.029341Z"
    }
   },
   "source": [
    "# Завдання 6: Реверсувати порядок елементів вектора з завдання 5\n",
    "arr6 = np.flip(arr5)\n",
    "print(arr6)"
   ],
   "outputs": [
    {
     "name": "stdout",
     "output_type": "stream",
     "text": [
      "[49 48 47 46 45 44 43 42 41 40 39 38 37 36 35 34 33 32 31 30 29 28 27 26\n",
      " 25 24 23 22 21 20 19 18 17 16 15 14 13 12 11 10]\n"
     ]
    }
   ],
   "execution_count": 17
  },
  {
   "cell_type": "code",
   "id": "f5fdce9b-3003-4560-b488-1bb8af2c0551",
   "metadata": {
    "ExecuteTime": {
     "end_time": "2025-01-17T09:52:33.731528Z",
     "start_time": "2025-01-17T09:52:33.724782Z"
    }
   },
   "source": [
    "# Завдання 7: Створити 9x9 матрицю зі значеннями від 0 до 80\n",
    "# Hints: np.arange\n",
    "arr7 = np.arange(81).reshape(9,9)\n",
    "print(arr7)"
   ],
   "outputs": [
    {
     "name": "stdout",
     "output_type": "stream",
     "text": [
      "[[ 0  1  2  3  4  5  6  7  8]\n",
      " [ 9 10 11 12 13 14 15 16 17]\n",
      " [18 19 20 21 22 23 24 25 26]\n",
      " [27 28 29 30 31 32 33 34 35]\n",
      " [36 37 38 39 40 41 42 43 44]\n",
      " [45 46 47 48 49 50 51 52 53]\n",
      " [54 55 56 57 58 59 60 61 62]\n",
      " [63 64 65 66 67 68 69 70 71]\n",
      " [72 73 74 75 76 77 78 79 80]]\n"
     ]
    }
   ],
   "execution_count": 18
  },
  {
   "cell_type": "code",
   "id": "c5aa5564-5ea6-414d-bf70-92d1b2dbe3da",
   "metadata": {
    "ExecuteTime": {
     "end_time": "2025-01-17T09:55:17.969268Z",
     "start_time": "2025-01-17T09:55:17.964179Z"
    }
   },
   "source": [
    "# Завдання 8: Знайти індекси ненульових елементів вектора [1,2,0,0,4,0]\n",
    "# Hints: np.nonzero\n",
    "\n",
    "arr8 = np.array([1,2,0,0,4,0])\n",
    "arr8_nonzero = np.nonzero(arr8)\n",
    "print(arr8_nonzero)\n"
   ],
   "outputs": [
    {
     "name": "stdout",
     "output_type": "stream",
     "text": [
      "(array([0, 1, 4]),)\n"
     ]
    }
   ],
   "execution_count": 21
  },
  {
   "cell_type": "code",
   "id": "d4b551a0-8ac8-4d4f-ae9a-f8c89388edc2",
   "metadata": {
    "ExecuteTime": {
     "end_time": "2025-01-17T09:56:23.775475Z",
     "start_time": "2025-01-17T09:56:23.769541Z"
    }
   },
   "source": [
    "# Завдання 9: Створити одиничну матрицю розміром 3x3\n",
    "# Hints: np.eye\n",
    "arr9 = np.eye(3,3)\n",
    "print(arr9)\n"
   ],
   "outputs": [
    {
     "name": "stdout",
     "output_type": "stream",
     "text": [
      "[[1. 0. 0.]\n",
      " [0. 1. 0.]\n",
      " [0. 0. 1.]]\n"
     ]
    }
   ],
   "execution_count": 22
  },
  {
   "cell_type": "code",
   "id": "5b65802f-0a76-4b21-8984-d15847ab8929",
   "metadata": {
    "ExecuteTime": {
     "end_time": "2025-01-17T09:59:41.834078Z",
     "start_time": "2025-01-17T09:59:41.827020Z"
    }
   },
   "source": [
    "# Завдання 10: Створити випадковий вектор розміром 10 та відсортувати його\n",
    "np.random.seed(10)\n",
    "arr10 = np.array(np.random.randint(0, 100, 10))\n",
    "arr10_sorted = np.sort(arr10)\n",
    "print(f\"Original array: {arr10}\")\n",
    "print(f\"Sorted array: {arr10_sorted}\")\n"
   ],
   "outputs": [
    {
     "name": "stdout",
     "output_type": "stream",
     "text": [
      "Original array: [ 9 15 64 28 89 93 29  8 73  0]\n",
      "Sorted array: [ 0  8  9 15 28 29 64 73 89 93]\n"
     ]
    }
   ],
   "execution_count": 24
  },
  {
   "cell_type": "code",
   "id": "522934ef-c4f2-4960-b174-34f60b5b570c",
   "metadata": {
    "ExecuteTime": {
     "end_time": "2025-01-17T10:00:34.504815Z",
     "start_time": "2025-01-17T10:00:34.498324Z"
    }
   },
   "source": [
    "# Завдання 11: Створити матрицю 5x5 з випадковими цілими числами в діапазоні від 0 до 10\n",
    "np.random.seed(10)\n",
    "arr11 = np.random.randint(0, 10, (5,5))\n",
    "print(arr11)"
   ],
   "outputs": [
    {
     "name": "stdout",
     "output_type": "stream",
     "text": [
      "[[9 4 0 1 9]\n",
      " [0 1 8 9 0]\n",
      " [8 6 4 3 0]\n",
      " [4 6 8 1 8]\n",
      " [4 1 3 6 5]]\n"
     ]
    }
   ],
   "execution_count": 31
  },
  {
   "cell_type": "code",
   "id": "5e199784-9d2e-4b5c-a588-a83badcc1367",
   "metadata": {
    "ExecuteTime": {
     "end_time": "2025-01-17T10:01:24.626331Z",
     "start_time": "2025-01-17T10:01:24.620780Z"
    }
   },
   "source": [
    "# Завдання 12: Обчислити суму всіх елементів матриці з завдання 11\n",
    "arr11_sum = np.sum(arr11)\n",
    "print(f\"Sum of all elements: {arr11_sum}\")\n"
   ],
   "outputs": [
    {
     "name": "stdout",
     "output_type": "stream",
     "text": [
      "Sum of all elements: 108\n"
     ]
    }
   ],
   "execution_count": 32
  },
  {
   "cell_type": "code",
   "id": "9ef6bc2e-fb32-4e3c-84bd-e3898bfe9cd7",
   "metadata": {
    "ExecuteTime": {
     "end_time": "2025-01-17T10:02:41.256383Z",
     "start_time": "2025-01-17T10:02:41.249885Z"
    }
   },
   "source": [
    "# Завдання 13: Знайти найменше значення в кожному рядку матриці з завдання 11\n",
    "arr11_min_row = np.min(arr11, axis=1)\n",
    "print(f\"Min value in each row: {arr11_min_row}\")\n"
   ],
   "outputs": [
    {
     "name": "stdout",
     "output_type": "stream",
     "text": [
      "Min value in each row: [0 0 0 1 1]\n"
     ]
    }
   ],
   "execution_count": 35
  },
  {
   "cell_type": "code",
   "id": "8236b838-8cb3-4adc-82d1-121b29701bee",
   "metadata": {
    "ExecuteTime": {
     "end_time": "2025-01-17T10:03:00.033290Z",
     "start_time": "2025-01-17T10:03:00.026545Z"
    }
   },
   "source": [
    "# Завдання 14: Обчислити середнє значення кожного стовпця матриці з завдання 11\n",
    "arr11_mean_col = np.mean(arr11, axis=0)\n",
    "print(f\"Mean value in each column: {arr11_mean_col}\")\n"
   ],
   "outputs": [
    {
     "name": "stdout",
     "output_type": "stream",
     "text": [
      "Mean value in each column: [5.  3.6 4.6 4.  4.4]\n"
     ]
    }
   ],
   "execution_count": 36
  },
  {
   "cell_type": "code",
   "id": "6c1c6b63-42fa-435f-910b-b82cb6427c0d",
   "metadata": {
    "ExecuteTime": {
     "end_time": "2025-01-17T10:09:12.969640Z",
     "start_time": "2025-01-17T10:09:12.961829Z"
    }
   },
   "source": [
    "# Завдання 15: Створити випадковий вектор розміром 15 та замінити максимальне значення на -1\n",
    "# Hints: np.argmax\n",
    "np.random.seed(10)\n",
    "arr15 = np.random.randint(0, 100, 15)\n",
    "print(f\"Array: {arr15}\")\n",
    "\n",
    "max_index = np.argmax(arr15)\n",
    "arr15[max_index] = -1\n",
    "\n",
    "print(f\"Array after: {arr15}\")"
   ],
   "outputs": [
    {
     "name": "stdout",
     "output_type": "stream",
     "text": [
      "Array: [ 9 15 64 28 89 93 29  8 73  0 40 36 16 11 54]\n",
      "Array after: [ 9 15 64 28 89 -1 29  8 73  0 40 36 16 11 54]\n"
     ]
    }
   ],
   "execution_count": 45
  },
  {
   "cell_type": "code",
   "id": "915a52ab-a49e-4485-958c-98fa607c1294",
   "metadata": {
    "ExecuteTime": {
     "end_time": "2025-01-17T10:28:11.170988Z",
     "start_time": "2025-01-17T10:28:11.164464Z"
    }
   },
   "source": [
    "# Завдання 16: Перетворити випадковий вектор розміром 10 в матрицю розміром 2x5\n",
    "np.random.seed(10)\n",
    "arr16 = np.random.randint(0, 100, 10)\n",
    "print(f\"Vector: {arr16}\")\n",
    "arr16 = arr16.reshape(2,5)\n",
    "print(f\"Matrix: {arr16}\")\n"
   ],
   "outputs": [
    {
     "name": "stdout",
     "output_type": "stream",
     "text": [
      "Vector: [ 9 15 64 28 89 93 29  8 73  0]\n",
      "Matrix: [[ 9 15 64 28 89]\n",
      " [93 29  8 73  0]]\n"
     ]
    }
   ],
   "execution_count": 53
  },
  {
   "cell_type": "code",
   "id": "6df6bd93-d180-4d59-b2f7-52fbd823ac91",
   "metadata": {
    "ExecuteTime": {
     "end_time": "2025-01-17T10:29:44.910231Z",
     "start_time": "2025-01-17T10:29:44.905278Z"
    }
   },
   "source": [
    "# Завдання 17: Знайти середнє значення елементів матриці з завдання 16\n",
    "arr16_mean = np.mean(arr16)\n",
    "print(f\"Mean: {arr16_mean}\")\n"
   ],
   "outputs": [
    {
     "name": "stdout",
     "output_type": "stream",
     "text": [
      "Mean: 40.8\n"
     ]
    }
   ],
   "execution_count": 54
  },
  {
   "metadata": {},
   "cell_type": "code",
   "outputs": [],
   "execution_count": null,
   "source": "",
   "id": "6c8dea6dd35ce5fc"
  }
 ],
 "metadata": {
  "kernelspec": {
   "display_name": "Python 3 (ipykernel)",
   "language": "python",
   "name": "python3"
  },
  "language_info": {
   "codemirror_mode": {
    "name": "ipython",
    "version": 3
   },
   "file_extension": ".py",
   "mimetype": "text/x-python",
   "name": "python",
   "nbconvert_exporter": "python",
   "pygments_lexer": "ipython3",
   "version": "3.8.10"
  }
 },
 "nbformat": 4,
 "nbformat_minor": 5
}
