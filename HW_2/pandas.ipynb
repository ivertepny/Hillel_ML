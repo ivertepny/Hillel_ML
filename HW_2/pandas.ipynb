{
 "cells": [
  {
   "cell_type": "markdown",
   "id": "903e65c2-9eb7-4b52-9ba4-b339401a29e6",
   "metadata": {},
   "source": [
    "[Pandas docs](https://pandas.pydata.org)"
   ]
  },
  {
   "cell_type": "code",
   "id": "4e60b12f-3c56-49b2-8abc-3d32fe60139c",
   "metadata": {
    "ExecuteTime": {
     "end_time": "2025-01-17T17:31:56.264909Z",
     "start_time": "2025-01-17T17:31:55.127903Z"
    }
   },
   "source": "import pandas as pd",
   "outputs": [],
   "execution_count": 4
  },
  {
   "cell_type": "code",
   "id": "50b841e3-c152-4014-8516-10ddcc7c7fb0",
   "metadata": {
    "ExecuteTime": {
     "end_time": "2025-01-17T17:32:19.090904Z",
     "start_time": "2025-01-17T17:32:19.084079Z"
    }
   },
   "source": [
    "# Завдання 1: Створити серію зі списку чисел [10, 20, 30, 40, 50]\n",
    "ser1 = pd.Series([10, 20, 30, 40, 50])\n",
    "print(ser1)"
   ],
   "outputs": [
    {
     "name": "stdout",
     "output_type": "stream",
     "text": [
      "0    10\n",
      "1    20\n",
      "2    30\n",
      "3    40\n",
      "4    50\n",
      "dtype: int64\n"
     ]
    }
   ],
   "execution_count": 6
  },
  {
   "cell_type": "code",
   "id": "2c5c1962-b5af-4c13-9402-0309e7c3352e",
   "metadata": {
    "ExecuteTime": {
     "end_time": "2025-01-17T17:32:41.053098Z",
     "start_time": "2025-01-17T17:32:41.040764Z"
    }
   },
   "source": [
    "# Завдання 2: Створити DataFrame зі списку списків [[1, 2, 3], [4, 5, 6], [7, 8, 9]]\n",
    "df2 = pd.DataFrame([[1, 2, 3], [4, 5, 6], [7, 8, 9]])\n",
    "print(df2)"
   ],
   "outputs": [
    {
     "name": "stdout",
     "output_type": "stream",
     "text": [
      "   0  1  2\n",
      "0  1  2  3\n",
      "1  4  5  6\n",
      "2  7  8  9\n"
     ]
    }
   ],
   "execution_count": 7
  },
  {
   "cell_type": "code",
   "id": "68a99747-e784-40e8-8a3b-6d2719304862",
   "metadata": {
    "ExecuteTime": {
     "end_time": "2025-01-17T17:34:24.121361Z",
     "start_time": "2025-01-17T17:34:24.111221Z"
    }
   },
   "source": [
    "# Завдання 3: Задати індекси для серії з завдання 1 рядками \"a\", \"b\", \"c\", \"d\", \"e\"\n",
    "# Hints: series.index\n",
    "ser1.index = [\"a\", \"b\", \"c\", \"d\", \"e\"]\n",
    "print(ser1)"
   ],
   "outputs": [
    {
     "name": "stdout",
     "output_type": "stream",
     "text": [
      "a    10\n",
      "b    20\n",
      "c    30\n",
      "d    40\n",
      "e    50\n",
      "dtype: int64\n"
     ]
    }
   ],
   "execution_count": 9
  },
  {
   "cell_type": "code",
   "id": "91ba0594-1337-4c8e-a41f-b0bce46f87c4",
   "metadata": {
    "ExecuteTime": {
     "end_time": "2025-01-17T17:35:16.453673Z",
     "start_time": "2025-01-17T17:35:16.440515Z"
    }
   },
   "source": [
    "# Завдання 4: Перейменувати стовпці DataFrame з завдання 2 на \"A\", \"B\", \"C\"\n",
    "# Hints: df.columns\n",
    "df2.columns = [\"A\", \"B\", \"C\"]\n",
    "print(df2)"
   ],
   "outputs": [
    {
     "name": "stdout",
     "output_type": "stream",
     "text": [
      "   A  B  C\n",
      "0  1  2  3\n",
      "1  4  5  6\n",
      "2  7  8  9\n"
     ]
    }
   ],
   "execution_count": 10
  },
  {
   "cell_type": "code",
   "id": "c27ab251-b22e-4f48-99fc-a865a21d0911",
   "metadata": {
    "ExecuteTime": {
     "end_time": "2025-01-17T17:35:49.787554Z",
     "start_time": "2025-01-17T17:35:49.781572Z"
    }
   },
   "source": [
    "# Завдання 5: Знайти максимальний елемент в серії з завдання 1\n",
    "ser1_max = pd.Series.max(ser1)\n",
    "print(f\"Max value in ser1: {ser1_max}\")\n"
   ],
   "outputs": [
    {
     "name": "stdout",
     "output_type": "stream",
     "text": [
      "Max value in ser1: 50\n"
     ]
    }
   ],
   "execution_count": 11
  },
  {
   "cell_type": "code",
   "id": "0f9a5ab4-a498-45a4-9cd3-4b6f1932d557",
   "metadata": {
    "ExecuteTime": {
     "end_time": "2025-01-17T17:36:32.000665Z",
     "start_time": "2025-01-17T17:36:31.990676Z"
    }
   },
   "source": [
    "# Завдання 6: Знайти середнє значення для кожного стовпця DataFrame з завдання 2\n",
    "df2_mean = pd.DataFrame.mean(df2)\n",
    "print(f\"Mean values for df2:\\n{df2_mean}\")\n"
   ],
   "outputs": [
    {
     "name": "stdout",
     "output_type": "stream",
     "text": [
      "Mean values for df2:\n",
      "A    4.0\n",
      "B    5.0\n",
      "C    6.0\n",
      "dtype: float64\n"
     ]
    }
   ],
   "execution_count": 12
  },
  {
   "cell_type": "code",
   "id": "f6e78f6e-9abd-4dc5-82a4-c85427fd9aa6",
   "metadata": {
    "ExecuteTime": {
     "end_time": "2025-01-17T17:38:01.583366Z",
     "start_time": "2025-01-17T17:38:01.577425Z"
    }
   },
   "source": [
    "# Завдання 7: Знайти суму елементів в серії з завдання 1\n",
    "ser1_sum = pd.Series.sum(ser1)\n",
    "print(f\"Sum of values in ser1: {ser1_sum}\")\n"
   ],
   "outputs": [
    {
     "name": "stdout",
     "output_type": "stream",
     "text": [
      "Sum of values in ser1: 150\n"
     ]
    }
   ],
   "execution_count": 13
  },
  {
   "cell_type": "code",
   "id": "46176e68-705b-4c4b-b2ea-e314b51e888e",
   "metadata": {
    "ExecuteTime": {
     "end_time": "2025-01-17T17:38:40.083032Z",
     "start_time": "2025-01-17T17:38:40.069878Z"
    }
   },
   "source": [
    "# Завдання 8: Вибрати всі рядки DataFrame з завдання 2, де значення стовпця \"A\" менше 5\n",
    "df2_filtered = pd.DataFrame(df2[df2[\"A\"] < 5])\n",
    "print(f\"Filtered df2:\\n{df2_filtered}\")\n"
   ],
   "outputs": [
    {
     "name": "stdout",
     "output_type": "stream",
     "text": [
      "Filtered df2:\n",
      "   A  B  C\n",
      "0  1  2  3\n",
      "1  4  5  6\n"
     ]
    }
   ],
   "execution_count": 14
  },
  {
   "cell_type": "code",
   "id": "c2920dd6-93f2-4a17-9474-2489ac185c9b",
   "metadata": {
    "ExecuteTime": {
     "end_time": "2025-01-17T17:43:08.824565Z",
     "start_time": "2025-01-17T17:43:08.814392Z"
    }
   },
   "source": [
    "# Завдання 9: Додати новий стовпець \"D\" до DataFrame з завдання 2 зі значеннями [10, 20, 30]\n",
    "df2[\"D\"] = [10, 20, 30]\n",
    "print(df2)\n"
   ],
   "outputs": [
    {
     "name": "stdout",
     "output_type": "stream",
     "text": [
      "   A  B  C   D\n",
      "0  1  2  3  10\n",
      "1  4  5  6  20\n",
      "2  7  8  9  30\n"
     ]
    }
   ],
   "execution_count": 15
  },
  {
   "cell_type": "code",
   "id": "60955c9e-636d-4aa6-87d2-7ca94da50f59",
   "metadata": {
    "ExecuteTime": {
     "end_time": "2025-01-17T17:43:29.230068Z",
     "start_time": "2025-01-17T17:43:29.215603Z"
    }
   },
   "source": [
    "# Завдання 10: Видалити стовпець \"B\" з DataFrame з завдання 2\n",
    "df2.drop(\"B\", axis=1, inplace=True)\n",
    "print(df2)\n"
   ],
   "outputs": [
    {
     "name": "stdout",
     "output_type": "stream",
     "text": [
      "   A  C   D\n",
      "0  1  3  10\n",
      "1  4  6  20\n",
      "2  7  9  30\n"
     ]
    }
   ],
   "execution_count": 16
  }
 ],
 "metadata": {
  "kernelspec": {
   "display_name": "Python 3 (ipykernel)",
   "language": "python",
   "name": "python3"
  },
  "language_info": {
   "codemirror_mode": {
    "name": "ipython",
    "version": 3
   },
   "file_extension": ".py",
   "mimetype": "text/x-python",
   "name": "python",
   "nbconvert_exporter": "python",
   "pygments_lexer": "ipython3",
   "version": "3.8.10"
  }
 },
 "nbformat": 4,
 "nbformat_minor": 5
}
